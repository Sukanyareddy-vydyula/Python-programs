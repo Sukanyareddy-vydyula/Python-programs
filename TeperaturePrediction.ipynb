{
  "nbformat": 4,
  "nbformat_minor": 0,
  "metadata": {
    "colab": {
      "provenance": []
    },
    "kernelspec": {
      "name": "python3",
      "display_name": "Python 3"
    },
    "language_info": {
      "name": "python"
    }
  },
  "cells": [
    {
      "cell_type": "code",
      "metadata": {
        "colab": {
          "base_uri": "https://localhost:8080/"
        },
        "id": "5905b508",
        "outputId": "c31b11b0-ad3f-43b3-c1e3-67b8aa41d559"
      },
      "source": [
        "!pip install agno"
      ],
      "execution_count": null,
      "outputs": [
        {
          "output_type": "stream",
          "name": "stdout",
          "text": [
            "Collecting agno\n",
            "  Downloading agno-1.7.4-py3-none-any.whl.metadata (43 kB)\n",
            "\u001b[?25l     \u001b[90m━━━━━━━━━━━━━━━━━━━━━━━━━━━━━━━━━━━━━━━━\u001b[0m \u001b[32m0.0/43.5 kB\u001b[0m \u001b[31m?\u001b[0m eta \u001b[36m-:--:--\u001b[0m\r\u001b[2K     \u001b[90m━━━━━━━━━━━━━━━━━━━━━━━━━━━━━━━━━━━━━━━━\u001b[0m \u001b[32m43.5/43.5 kB\u001b[0m \u001b[31m2.9 MB/s\u001b[0m eta \u001b[36m0:00:00\u001b[0m\n",
            "\u001b[?25hRequirement already satisfied: docstring-parser in /usr/local/lib/python3.11/dist-packages (from agno) (0.16)\n",
            "Requirement already satisfied: gitpython in /usr/local/lib/python3.11/dist-packages (from agno) (3.1.44)\n",
            "Requirement already satisfied: httpx in /usr/local/lib/python3.11/dist-packages (from agno) (0.28.1)\n",
            "Collecting pydantic-settings (from agno)\n",
            "  Downloading pydantic_settings-2.10.1-py3-none-any.whl.metadata (3.4 kB)\n",
            "Requirement already satisfied: pydantic in /usr/local/lib/python3.11/dist-packages (from agno) (2.11.7)\n",
            "Collecting python-dotenv (from agno)\n",
            "  Downloading python_dotenv-1.1.1-py3-none-any.whl.metadata (24 kB)\n",
            "Requirement already satisfied: python-multipart in /usr/local/lib/python3.11/dist-packages (from agno) (0.0.20)\n",
            "Requirement already satisfied: pyyaml in /usr/local/lib/python3.11/dist-packages (from agno) (6.0.2)\n",
            "Requirement already satisfied: rich in /usr/local/lib/python3.11/dist-packages (from agno) (13.9.4)\n",
            "Collecting tomli (from agno)\n",
            "  Downloading tomli-2.2.1-cp311-cp311-manylinux_2_17_x86_64.manylinux2014_x86_64.whl.metadata (11 kB)\n",
            "Requirement already satisfied: typer in /usr/local/lib/python3.11/dist-packages (from agno) (0.16.0)\n",
            "Requirement already satisfied: typing-extensions in /usr/local/lib/python3.11/dist-packages (from agno) (4.14.1)\n",
            "Requirement already satisfied: gitdb<5,>=4.0.1 in /usr/local/lib/python3.11/dist-packages (from gitpython->agno) (4.0.12)\n",
            "Requirement already satisfied: anyio in /usr/local/lib/python3.11/dist-packages (from httpx->agno) (4.9.0)\n",
            "Requirement already satisfied: certifi in /usr/local/lib/python3.11/dist-packages (from httpx->agno) (2025.7.9)\n",
            "Requirement already satisfied: httpcore==1.* in /usr/local/lib/python3.11/dist-packages (from httpx->agno) (1.0.9)\n",
            "Requirement already satisfied: idna in /usr/local/lib/python3.11/dist-packages (from httpx->agno) (3.10)\n",
            "Requirement already satisfied: h11>=0.16 in /usr/local/lib/python3.11/dist-packages (from httpcore==1.*->httpx->agno) (0.16.0)\n",
            "Requirement already satisfied: annotated-types>=0.6.0 in /usr/local/lib/python3.11/dist-packages (from pydantic->agno) (0.7.0)\n",
            "Requirement already satisfied: pydantic-core==2.33.2 in /usr/local/lib/python3.11/dist-packages (from pydantic->agno) (2.33.2)\n",
            "Requirement already satisfied: typing-inspection>=0.4.0 in /usr/local/lib/python3.11/dist-packages (from pydantic->agno) (0.4.1)\n",
            "Requirement already satisfied: markdown-it-py>=2.2.0 in /usr/local/lib/python3.11/dist-packages (from rich->agno) (3.0.0)\n",
            "Requirement already satisfied: pygments<3.0.0,>=2.13.0 in /usr/local/lib/python3.11/dist-packages (from rich->agno) (2.19.2)\n",
            "Requirement already satisfied: click>=8.0.0 in /usr/local/lib/python3.11/dist-packages (from typer->agno) (8.2.1)\n",
            "Requirement already satisfied: shellingham>=1.3.0 in /usr/local/lib/python3.11/dist-packages (from typer->agno) (1.5.4)\n",
            "Requirement already satisfied: smmap<6,>=3.0.1 in /usr/local/lib/python3.11/dist-packages (from gitdb<5,>=4.0.1->gitpython->agno) (5.0.2)\n",
            "Requirement already satisfied: mdurl~=0.1 in /usr/local/lib/python3.11/dist-packages (from markdown-it-py>=2.2.0->rich->agno) (0.1.2)\n",
            "Requirement already satisfied: sniffio>=1.1 in /usr/local/lib/python3.11/dist-packages (from anyio->httpx->agno) (1.3.1)\n",
            "Downloading agno-1.7.4-py3-none-any.whl (943 kB)\n",
            "\u001b[2K   \u001b[90m━━━━━━━━━━━━━━━━━━━━━━━━━━━━━━━━━━━━━━━━\u001b[0m \u001b[32m943.1/943.1 kB\u001b[0m \u001b[31m24.6 MB/s\u001b[0m eta \u001b[36m0:00:00\u001b[0m\n",
            "\u001b[?25hDownloading pydantic_settings-2.10.1-py3-none-any.whl (45 kB)\n",
            "\u001b[2K   \u001b[90m━━━━━━━━━━━━━━━━━━━━━━━━━━━━━━━━━━━━━━━━\u001b[0m \u001b[32m45.2/45.2 kB\u001b[0m \u001b[31m3.6 MB/s\u001b[0m eta \u001b[36m0:00:00\u001b[0m\n",
            "\u001b[?25hDownloading python_dotenv-1.1.1-py3-none-any.whl (20 kB)\n",
            "Downloading tomli-2.2.1-cp311-cp311-manylinux_2_17_x86_64.manylinux2014_x86_64.whl (236 kB)\n",
            "\u001b[2K   \u001b[90m━━━━━━━━━━━━━━━━━━━━━━━━━━━━━━━━━━━━━━━━\u001b[0m \u001b[32m236.0/236.0 kB\u001b[0m \u001b[31m17.7 MB/s\u001b[0m eta \u001b[36m0:00:00\u001b[0m\n",
            "\u001b[?25hInstalling collected packages: tomli, python-dotenv, pydantic-settings, agno\n",
            "Successfully installed agno-1.7.4 pydantic-settings-2.10.1 python-dotenv-1.1.1 tomli-2.2.1\n"
          ]
        }
      ]
    },
    {
      "cell_type": "code",
      "metadata": {
        "colab": {
          "base_uri": "https://localhost:8080/"
        },
        "id": "9e560ac5",
        "outputId": "0166cce8-5138-4ce7-fb2e-a531fe8bf2b7"
      },
      "source": [
        "!pip install duckduckgo-search"
      ],
      "execution_count": null,
      "outputs": [
        {
          "output_type": "stream",
          "name": "stdout",
          "text": [
            "Collecting duckduckgo-search\n",
            "  Downloading duckduckgo_search-8.1.1-py3-none-any.whl.metadata (16 kB)\n",
            "Requirement already satisfied: click>=8.1.8 in /usr/local/lib/python3.11/dist-packages (from duckduckgo-search) (8.2.1)\n",
            "Collecting primp>=0.15.0 (from duckduckgo-search)\n",
            "  Downloading primp-0.15.0-cp38-abi3-manylinux_2_17_x86_64.manylinux2014_x86_64.whl.metadata (13 kB)\n",
            "Requirement already satisfied: lxml>=5.3.0 in /usr/local/lib/python3.11/dist-packages (from duckduckgo-search) (5.4.0)\n",
            "Downloading duckduckgo_search-8.1.1-py3-none-any.whl (18 kB)\n",
            "Downloading primp-0.15.0-cp38-abi3-manylinux_2_17_x86_64.manylinux2014_x86_64.whl (3.3 MB)\n",
            "\u001b[2K   \u001b[90m━━━━━━━━━━━━━━━━━━━━━━━━━━━━━━━━━━━━━━━━\u001b[0m \u001b[32m3.3/3.3 MB\u001b[0m \u001b[31m54.3 MB/s\u001b[0m eta \u001b[36m0:00:00\u001b[0m\n",
            "\u001b[?25hInstalling collected packages: primp, duckduckgo-search\n",
            "Successfully installed duckduckgo-search-8.1.1 primp-0.15.0\n"
          ]
        }
      ]
    },
    {
      "cell_type": "code",
      "source": [
        "import os\n",
        "import requests\n",
        "import gradio as gr\n",
        "from agno.agent import Agent\n",
        "from agno.models.google import Gemini\n",
        "from agno.tools.duckduckgo import DuckDuckGoTools\n",
        "\n",
        "# 🌤️ Weather summary template\n",
        "PROMPT_TEMPLATE = \"\"\"\n",
        "You are a weather analyst. Based on real-time weather in **{location}**, write a detailed weather report:\n",
        "\n",
        "### 1. Current Weather\n",
        "- Temperature: {temperature}°C\n",
        "- Wind Speed: {windspeed} km/h\n",
        "- Humidity: {humidity}%\n",
        "- Sky: {description}\n",
        "\n",
        "### 2. Recommendations\n",
        "- What should a person wear?\n",
        "- Precautions to take based on weather?\n",
        "\n",
        "### 3. Patient-Friendly Insight\n",
        "Explain the weather conditions in simple terms and how it affects daily life.\n",
        "\n",
        "### 4. Add 2–3 helpful weather websites using DuckDuckGo.\n",
        "\"\"\"\n",
        "\n",
        "# Open-Meteo weather code meanings\n",
        "WEATHER_CODES = {\n",
        "    0: \"Clear sky\", 1: \"Mainly clear\", 2: \"Partly cloudy\", 3: \"Overcast\",\n",
        "    45: \"Fog\", 48: \"Rime fog\", 51: \"Light drizzle\", 53: \"Moderate drizzle\",\n",
        "    61: \"Light rain\", 63: \"Moderate rain\", 65: \"Heavy rain\",\n",
        "    71: \"Light snow\", 73: \"Moderate snow\", 75: \"Heavy snow\",\n",
        "    80: \"Rain showers\", 81: \"Heavy rain showers\",\n",
        "    95: \"Thunderstorm\", 99: \"Severe thunderstorm\"\n",
        "}\n",
        "\n",
        "# 🌍 Get coordinates for a city\n",
        "def get_coords(city):\n",
        "    url = f\"https://geocoding-api.open-meteo.com/v1/search?name={city}&count=1\"\n",
        "    res = requests.get(url).json()\n",
        "    if res.get(\"results\"):\n",
        "        return res[\"results\"][0][\"latitude\"], res[\"results\"][0][\"longitude\"]\n",
        "    return None, None\n",
        "\n",
        "# 🌦️ Get weather data from Open-Meteo\n",
        "def get_weather(lat, lon):\n",
        "    url = f\"https://api.open-meteo.com/v1/forecast?latitude={lat}&longitude={lon}&current=temperature_2m,relative_humidity_2m,windspeed_10m,weathercode&timezone=auto\"\n",
        "    return requests.get(url).json().get(\"current\", {})\n",
        "\n",
        "# 🔍 Weather Analysis Function\n",
        "def analyze_weather(api_key, city):\n",
        "    if not api_key:\n",
        "        return \"❌ Google API Key is missing.\"\n",
        "    if not city.strip():\n",
        "        return \"❌ Please enter a valid city name.\"\n",
        "\n",
        "    try:\n",
        "        lat, lon = get_coords(city)\n",
        "        if not lat:\n",
        "            return \"❌ City not found.\"\n",
        "\n",
        "        weather = get_weather(lat, lon)\n",
        "        desc = WEATHER_CODES.get(weather.get(\"weathercode\", 0), \"Unknown\")\n",
        "\n",
        "        # Format prompt\n",
        "        prompt = PROMPT_TEMPLATE.format(\n",
        "            location=city.title(),\n",
        "            temperature=weather.get(\"temperature_2m\", \"N/A\"),\n",
        "            windspeed=weather.get(\"windspeed_10m\", \"N/A\"),\n",
        "            humidity=weather.get(\"relative_humidity_2m\", \"N/A\"),\n",
        "            description=desc\n",
        "        )\n",
        "\n",
        "        agent = Agent(\n",
        "            model=Gemini(id=\"gemini-1.5-flash\", api_key=api_key),\n",
        "            tools=[DuckDuckGoTools()],\n",
        "            markdown=True\n",
        "        )\n",
        "\n",
        "        return agent.run(prompt).content\n",
        "\n",
        "    except Exception as e:\n",
        "        return f\"❌ Error: {e}\"\n",
        "\n",
        "# 🚀 Gradio App UI\n",
        "with gr.Blocks() as demo:\n",
        "    gr.Markdown(\"## 🌦️ AI Weather Reporter\")\n",
        "    gr.Markdown(\"Get live weather updates + AI analysis (powered by Open-Meteo + Gemini)\\n⚠️ For demo use only.\")\n",
        "\n",
        "    api_key = gr.Textbox(label=\"🔐 Google API Key\", type=\"password\")\n",
        "    city_name = gr.Textbox(label=\"📍 City Name\", placeholder=\"e.g., Bengaluru, London\")\n",
        "    analyze_btn = gr.Button(\"🔍 Analyze Weather\")\n",
        "    output = gr.Markdown()\n",
        "\n",
        "    analyze_btn.click(analyze_weather, inputs=[api_key, city_name], outputs=output)\n",
        "\n",
        "demo.launch()"
      ],
      "metadata": {
        "id": "qPVnaoKavuG6",
        "outputId": "806155b3-7501-49f6-ed35-0c60f5df6d82",
        "colab": {
          "base_uri": "https://localhost:8080/",
          "height": 646
        }
      },
      "execution_count": null,
      "outputs": [
        {
          "output_type": "stream",
          "name": "stdout",
          "text": [
            "It looks like you are running Gradio on a hosted a Jupyter notebook. For the Gradio app to work, sharing must be enabled. Automatically setting `share=True` (you can turn this off by setting `share=False` in `launch()` explicitly).\n",
            "\n",
            "Colab notebook detected. To show errors in colab notebook, set debug=True in launch()\n",
            "* Running on public URL: https://643509f2b97cec1d46.gradio.live\n",
            "\n",
            "This share link expires in 1 week. For free permanent hosting and GPU upgrades, run `gradio deploy` from the terminal in the working directory to deploy to Hugging Face Spaces (https://huggingface.co/spaces)\n"
          ]
        },
        {
          "output_type": "display_data",
          "data": {
            "text/plain": [
              "<IPython.core.display.HTML object>"
            ],
            "text/html": [
              "<div><iframe src=\"https://643509f2b97cec1d46.gradio.live\" width=\"100%\" height=\"500\" allow=\"autoplay; camera; microphone; clipboard-read; clipboard-write;\" frameborder=\"0\" allowfullscreen></iframe></div>"
            ]
          },
          "metadata": {}
        },
        {
          "output_type": "execute_result",
          "data": {
            "text/plain": []
          },
          "metadata": {},
          "execution_count": 20
        }
      ]
    }
  ]
}